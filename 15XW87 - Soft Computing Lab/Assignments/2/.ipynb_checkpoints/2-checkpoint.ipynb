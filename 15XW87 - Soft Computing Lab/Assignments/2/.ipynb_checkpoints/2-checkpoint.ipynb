{
 "cells": [
  {
   "cell_type": "code",
   "execution_count": 127,
   "metadata": {},
   "outputs": [],
   "source": [
    "## Imports\n",
    "import pandas as pd\n",
    "import numpy as np\n",
    "import math\n",
    "import networkx as nx\n",
    "from networkx.drawing.nx_agraph import graphviz_layout\n",
    "import matplotlib.pyplot as plt"
   ]
  },
  {
   "cell_type": "code",
   "execution_count": 128,
   "metadata": {},
   "outputs": [],
   "source": [
    "## Helper functions\n",
    "def reversal_node(df_row, current_node):\n",
    "    if df_row['to'] == current_node:\n",
    "        df_row['from'], df_row['to'] = df_row['to'],df_row['from']\n",
    "    return df_row\n",
    "\n",
    "def get_all_edges(closed, parent, end_node, edges_list):\n",
    "    edges = []\n",
    "    for index, row in closed.iterrows():\n",
    "        edge_ = edges_list.loc[((edges_list['from']==row['node'])&(edges_list['to']==parent[row['node']]))|((edges_list['from']==parent[row['node']])&(edges_list['to']==row['node']))]\n",
    "        if not edge_.empty:\n",
    "            edges.append((parent[row['node']], row['node'], edge_.iloc[0]['weights']))\n",
    "    weight_goal = edges_list.loc[(edges_list['from']==parent[end_node])&(edges_list['to']==end_node)]\n",
    "    edges.append((parent[end_node], end_node,weight_goal.iloc[0]['weights']))\n",
    "    return edges\n",
    "\n",
    "def print_graph_from(path, shortest_path):\n",
    "    G = nx.Graph()\n",
    "    G.add_weighted_edges_from(path)\n",
    "    color = ['r' if e in shortest_path else 'b' for e in G.edges()]\n",
    "    pos = graphviz_layout(G, prog=\"dot\")\n",
    "    labels = nx.get_edge_attributes(G, 'weight')\n",
    "    nx.draw(G, pos, with_labels=True, edge_color = color)\n",
    "    nx.draw_networkx_edge_labels(G, pos, edge_labels=labels)\n",
    "    plt.show()\n",
    "\n",
    "def get_path_to_goal(parent, end_node):\n",
    "    current_node = end_node\n",
    "    path_to_goal = []\n",
    "    while current_node != 'Parent':\n",
    "        path_to_goal.append((parent[current_node], current_node))\n",
    "        current_node = parent[current_node]\n",
    "    return path_to_goal[:-1]"
   ]
  },
  {
   "cell_type": "code",
   "execution_count": 180,
   "metadata": {},
   "outputs": [],
   "source": [
    "def greedy_best_first_search(edges, straight_dist, start_node, end_node):\n",
    "    open_structure = pd.DataFrame([[start_node, straight_dist[start_node]]], columns=['node', 'estimated_cost'])\n",
    "    closed_structure = pd.DataFrame(columns=['node','estimated_cost'])\n",
    "    success = False\n",
    "    parent = { start_node: 'Parent'}\n",
    "    cost_from_parent = { start_node: 0 }\n",
    "    while not open_structure.empty:\n",
    "        current_node_data = open_structure.iloc[0]\n",
    "        current_node, estimated_cost = current_node_data['node'], current_node_data['estimated_cost']\n",
    "        open_structure = open_structure.iloc[1:]\n",
    "        if end_node == current_node:\n",
    "            success = True\n",
    "            break\n",
    "        closed_structure = closed_structure.append(current_node_data)\n",
    "        closed_structure = closed_structure.reset_index(drop=True)\n",
    "        next_edges = edges.loc[(edges['from'] == current_node)|(edges['to'] == current_node)]\n",
    "        next_edges = next_edges.apply(lambda row: reversal_node(row, current_node), axis=1)\n",
    "        for index, row  in next_edges.iterrows():\n",
    "            closed_node = closed_structure.loc[(closed_structure['node']==row['to'])]\n",
    "            if closed_node.empty:\n",
    "                open_node = open_structure.loc[(open_structure['node']==row['to'])]\n",
    "                if open_node.empty:\n",
    "                    open_structure = open_structure.append(pd.DataFrame([[row['to'], straight_dist[row['to']]]], columns=['node', 'estimated_cost']))\n",
    "                    parent[row['to']] = row['from']\n",
    "                    cost_from_parent[row['to']] = cost_from_parent[row['from']] + row['weights']\n",
    "        open_structure = open_structure.sort_values(by=['estimated_cost']).reset_index(drop=True)\n",
    "    return { \"meta\": \"Greedy Best First Search\", \"success\": success , \"path\": closed_structure, \"final_open\": open_structure, \"current_node\": current_node, \"parent\": parent, \"cost_from_parent\":cost_from_parent }"
   ]
  },
  {
   "cell_type": "code",
   "execution_count": 181,
   "metadata": {},
   "outputs": [],
   "source": [
    "def hill_climbing(edges, straight_dist, start_node, end_node):\n",
    "    open_structure = pd.DataFrame([[start_node, straight_dist[start_node]]], columns=['node', 'estimated_cost'])\n",
    "    closed_structure = pd.DataFrame(columns=['node','estimated_cost'])\n",
    "    success = False\n",
    "    parent = { start_node: 'Parent'}\n",
    "    cost_from_parent = { start_node: 0 }\n",
    "    previous_cost = math.inf\n",
    "    while not open_structure.empty:\n",
    "        current_node_data = open_structure.iloc[0]\n",
    "        current_node, estimated_cost = current_node_data['node'], current_node_data['estimated_cost']\n",
    "        open_structure = open_structure.iloc[1:]\n",
    "        if estimated_cost < previous_cost:\n",
    "            if end_node == current_node:\n",
    "                success = True\n",
    "                break\n",
    "            closed_structure = closed_structure.append(current_node_data)\n",
    "            closed_structure = closed_structure.reset_index(drop=True)\n",
    "            next_edges = edges.loc[(edges['from'] == current_node)|(edges['to'] == current_node)]\n",
    "            next_edges = next_edges.apply(lambda row: reversal_node(row, current_node), axis=1)\n",
    "            for index, row  in next_edges.iterrows():\n",
    "                open_node = open_structure.loc[(open_structure['node']==row['to'])]\n",
    "                if open_node.empty:\n",
    "                    open_structure = open_structure.append(pd.DataFrame([[row['to'], straight_dist[row['to']]]], columns=['node', 'estimated_cost']))\n",
    "                    parent[row['to']] = row['from']\n",
    "                    cost_from_parent[row['to']] = cost_from_parent[row['from']] + row['weights']\n",
    "            open_structure = open_structure.sort_values(by=['estimated_cost']).reset_index(drop=True)\n",
    "            previous_cost = estimated_cost\n",
    "        else:\n",
    "            success = False\n",
    "            return {\"meta\": \"Hill Climbing\", \"success\": success}\n",
    "    return {\"meta\": \"Hill Climbing\", \"success\": success, \"path\": closed_structure, \"parent\": parent, \"cost_from_parent\": cost_from_parent, \"final_open\": open_structure, \"total_cost\": cost_from_parent[end_node]}\n",
    "#     return { \"success\": success , \"expanded_node\": closed_structure, \"current_open\": open_structure, \"current_node\": current_node, \"parent\": parent}"
   ]
  },
  {
   "cell_type": "code",
   "execution_count": 182,
   "metadata": {},
   "outputs": [],
   "source": [
    "def a_search(edges, straight_dist, start_node, end_node):\n",
    "    open_structure = pd.DataFrame([[start_node, straight_dist[start_node]]],columns=['node','estimated_cost'])\n",
    "    closed_structure = pd.DataFrame(columns=['node', 'estimated_cost'])\n",
    "    parent = { start_node: 'Parent' }\n",
    "    cost_from_parent = { start_node: 0 }\n",
    "    success = False\n",
    "    \n",
    "    while not open_structure.empty:\n",
    "        current_node_data = open_structure.iloc[0]\n",
    "        current_node, estimated_cost = current_node_data['node'], current_node_data['estimated_cost']\n",
    "        open_structure = open_structure.iloc[1:]\n",
    "        \n",
    "        if current_node == end_node:\n",
    "            success = True\n",
    "            break\n",
    "            \n",
    "        closed_structure = closed_structure.append(current_node_data)\n",
    "        closed_structure = closed_structure.reset_index(drop=True)\n",
    "        \n",
    "        next_edges = edges.loc[(edges['from']==current_node) |(edges['to']==current_node)]\n",
    "        next_edges = next_edges.apply(lambda row: reversal_node(row, current_node), axis=1)\n",
    "        \n",
    "        for index, row in next_edges.iterrows():\n",
    "            flag=1\n",
    "            cost_from_parent_to = cost_from_parent[row['from']]+row['weights']\n",
    "            estimated_cost = cost_from_parent_to + straight_dist[row['to']]\n",
    "            closed_node = closed_structure.loc[(closed_structure['node']==row['to'])]\n",
    "            if not closed_node.empty:\n",
    "                closed_node = closed_node.iloc[0]\n",
    "                if closed_node['estimated_cost'] > estimated_cost:\n",
    "                    closed_structure.drop(closed_structure[closed_structure['node']==row['to']].index, inplace=True)\n",
    "                else:\n",
    "                    flag=0\n",
    "            open_node = open_structure.loc[(open_structure['node']==row['to'])]\n",
    "            if (not open_node.empty) and flag:\n",
    "                open_node = open_node.iloc[0]\n",
    "                if open_node['estimated_cost'] > estimated_cost:\n",
    "                    parent[row['to']] = row['from']\n",
    "                    cost_from_parent[row['to']] = cost_from_parent_to\n",
    "                    open_structure.loc[(open_structure['node']==row['to']),'estimated_cost'] = estimated_cost\n",
    "            elif flag:\n",
    "                parent[row['to']] = row['from']\n",
    "                cost_from_parent[row['to']] = cost_from_parent_to\n",
    "                open_structure = open_structure.append(pd.DataFrame([[row['to'], estimated_cost]], columns=['node', 'estimated_cost']))\n",
    "        open_structure = open_structure.sort_values(by=['estimated_cost']).reset_index(drop=True)\n",
    "    return {\"meta\": \"A* Search\", \"success\":success, \"path\": closed_structure, \"parent\": parent, \"cost_from_parent\": cost_from_parent, \"final_open\": open_structure, \"total_cost\": cost_from_parent[end_node]}"
   ]
  },
  {
   "cell_type": "code",
   "execution_count": 184,
   "metadata": {},
   "outputs": [],
   "source": [
    "def print_result(results, start_node, end_node, edges, straight_dist):\n",
    "    for result in results:\n",
    "        print(\"#################\", result['meta'], \"#################\")\n",
    "        if(result['success']):\n",
    "            print(\"==== Traversed Path ====\")\n",
    "            print(result['path'])\n",
    "            print(\"========== Total Cost (Shortest Path)=============\")\n",
    "            shortest_path = get_path_to_goal(result['parent'], end_node)\n",
    "            print(\"Path -> Start-Goal: {}\\nCost: {}\".format(shortest_path,result[\"cost_from_parent\"]['R']))\n",
    "            print(\"=======OPEN=========\")\n",
    "            print(result['final_open'])\n",
    "            path = get_all_edges(result['path'], result['parent'], end_node, edges)\n",
    "            print_graph(path, shortest_path)\n",
    "        else:\n",
    "            print(\"############### Traversal Failed! ###############\\n\")"
   ]
  },
  {
   "cell_type": "code",
   "execution_count": 185,
   "metadata": {},
   "outputs": [
    {
     "name": "stdout",
     "output_type": "stream",
     "text": [
      "################# A* Search #################\n",
      "==== Traversed Path ====\n",
      "  node estimated_cost\n",
      "0    A            240\n",
      "1    C            246\n",
      "2    I            248\n",
      "3    M            248\n",
      "4    D            252\n",
      "5    N            255\n",
      "6    B            259\n",
      "7    L            260\n",
      "8    O            270\n",
      "========== Total Cost (Shortest Path)=============\n",
      "Path -> Start-Goal: [('O', 'R'), ('M', 'O'), ('I', 'M'), ('C', 'I'), ('A', 'C')]\n",
      "Cost: 270\n",
      "=======OPEN=========\n",
      "  node  estimated_cost\n",
      "1    E             274\n",
      "2    K             278\n",
      "3    P             284\n",
      "4    F             309\n",
      "5    H             331\n",
      "6    J             361\n"
     ]
    },
    {
     "data": {
      "image/png": "[encoded data removed]",
      "text/plain": [
       "<Figure size 432x288 with 1 Axes>"
      ]
     },
     "metadata": {},
     "output_type": "display_data"
    },
    {
     "name": "stdout",
     "output_type": "stream",
     "text": [
      "################# Hill Climbing #################\n",
      "############### Traversal Failed! ###############\n",
      "\n",
      "################# Greedy Best First Search #################\n",
      "==== Traversed Path ====\n",
      "  node estimated_cost\n",
      "0    A            240\n",
      "1    D            163\n",
      "2    N             77\n",
      "3    J            130\n",
      "4    Q             65\n",
      "========== Total Cost (Shortest Path)=============\n",
      "Path -> Start-Goal: [('Q', 'R'), ('J', 'Q'), ('N', 'J'), ('D', 'N'), ('A', 'D')]\n",
      "Cost: 376\n",
      "=======OPEN=========\n",
      "  node  estimated_cost\n",
      "1    F             150\n",
      "2    G             165\n",
      "3    E             170\n",
      "4    C             182\n",
      "5    B             186\n"
     ]
    },
    {
     "data": {
      "image/png": "[encoded data removed]",
      "text/plain": [
       "<Figure size 432x288 with 1 Axes>"
      ]
     },
     "metadata": {},
     "output_type": "display_data"
    }
   ],
   "source": [
    "edges = pd.read_csv('edge_list.csv')\n",
    "straight_dist = pd.read_csv('straight_line.csv',header=None,index_col=0,squeeze=True).to_dict()\n",
    "start_node, end_node = 'A','R'\n",
    "result = (a_search(edges, straight_dist, start_node, end_node),\n",
    "          hill_climbing(edges, straight_dist, start_node, end_node),\n",
    "          greedy_best_first_search(edges, straight_dist, start_node, end_node))\n",
    "  \n",
    "print_result(result, start_node, end_node, edges, straight_dist)"
   ]
  },
  {
   "cell_type": "code",
   "execution_count": 177,
   "metadata": {},
   "outputs": [
    {
     "name": "stdout",
     "output_type": "stream",
     "text": [
      "################# A* Search #################\n",
      "==== Traversed Path ====\n",
      "  node estimated_cost\n",
      "0    P             65\n",
      "========== Total Cost (Shortest Path)=============\n",
      "Path -> Start-Goal: [('P', 'R')]\n",
      "Cost: 65\n"
     ]
    },
    {
     "data": {
      "image/png": "[encoded data removed]",
      "text/plain": [
       "<Figure size 432x288 with 1 Axes>"
      ]
     },
     "metadata": {},
     "output_type": "display_data"
    },
    {
     "name": "stdout",
     "output_type": "stream",
     "text": [
      "################# Hill Climbing #################\n",
      "==== Traversed Path ====\n",
      "  node estimated_cost\n",
      "0    P             65\n",
      "========== Total Cost (Shortest Path)=============\n",
      "Path -> Start-Goal: [('P', 'R')]\n",
      "Cost: 65\n"
     ]
    },
    {
     "data": {
      "image/png": "[encoded data removed]",
      "text/plain": [
       "<Figure size 432x288 with 1 Axes>"
      ]
     },
     "metadata": {},
     "output_type": "display_data"
    },
    {
     "name": "stdout",
     "output_type": "stream",
     "text": [
      "################# Greedy Best First Search #################\n",
      "==== Traversed Path ====\n",
      "  node estimated_cost\n",
      "0    P             65\n",
      "========== Total Cost (Shortest Path)=============\n",
      "Path -> Start-Goal: [('P', 'R')]\n",
      "Cost: 65\n"
     ]
    },
    {
     "data": {
      "image/png": "[encoded data removed]",
      "text/plain": [
       "<Figure size 432x288 with 1 Axes>"
      ]
     },
     "metadata": {},
     "output_type": "display_data"
    }
   ],
   "source": [
    "start_node, end_node = 'P','R'\n",
    "result = (a_search(edges, straight_dist, start_node, end_node),\n",
    "          hill_climbing(edges, straight_dist, start_node, end_node),\n",
    "          greedy_best_first_search(edges, straight_dist, start_node, end_node))\n",
    "print_result(result, start_node, end_node, edges, straight_dist)\n"
   ]
  },
  {
   "cell_type": "code",
   "execution_count": null,
   "metadata": {},
   "outputs": [],
   "source": []
  },
  {
   "cell_type": "code",
   "execution_count": null,
   "metadata": {},
   "outputs": [],
   "source": []
  }
 ],
 "metadata": {
  "kernelspec": {
   "display_name": "Python 3",
   "language": "python",
   "name": "python3"
  },
  "language_info": {
   "codemirror_mode": {
    "name": "ipython",
    "version": 3
   },
   "file_extension": ".py",
   "mimetype": "text/x-python",
   "name": "python",
   "nbconvert_exporter": "python",
   "pygments_lexer": "ipython3",
   "version": "3.9.1"
  }
 },
 "nbformat": 4,
 "nbformat_minor": 4
}
