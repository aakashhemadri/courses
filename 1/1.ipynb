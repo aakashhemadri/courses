{
 "cells": [
  {
   "cell_type": "code",
   "execution_count": 16,
   "metadata": {},
   "outputs": [],
   "source": [
    "from python.utils import get_dataset, col_type, COL_TYPE, print_dict\n",
    "import matplotlib.pyplot as plt\n",
    "import pprint"
   ]
  },
  {
   "cell_type": "code",
   "execution_count": 30,
   "metadata": {},
   "outputs": [],
   "source": [
    "dataset = get_dataset('dataset.xlsx')"
   ]
  },
  {
   "cell_type": "markdown",
   "metadata": {},
   "source": [
    "### Question 1"
   ]
  },
  {
   "cell_type": "code",
   "execution_count": 31,
   "metadata": {},
   "outputs": [
    {
     "name": "stdout",
     "output_type": "stream",
     "text": [
      "==> Quantitative Column Count:  11\n",
      "==> Qualitative Column Count:  4\n"
     ]
    }
   ],
   "source": [
    "quant_count = 0\n",
    "qual_count = 0\n",
    "for i in dataset:\n",
    "    if(col_type(dataset[i]) == COL_TYPE.QUALITATIVE):\n",
    "        qual_count += 1\n",
    "    elif(col_type(dataset[i]) == COL_TYPE.QUANTITATIVE):\n",
    "        quant_count += 1\n",
    "print(\"==> Quantitative Column Count: \", quant_count)\n",
    "print(\"==> Qualitative Column Count: \", qual_count)"
   ]
  },
  {
   "cell_type": "markdown",
   "metadata": {},
   "source": [
    "### Question 2"
   ]
  },
  {
   "cell_type": "code",
   "execution_count": 32,
   "metadata": {},
   "outputs": [
    {
     "data": {
      "image/png": "[encoded data removed]",
      "text/plain": [
       "<Figure size 432x288 with 3 Axes>"
      ]
     },
     "metadata": {
      "needs_background": "light"
     },
     "output_type": "display_data"
    }
   ],
   "source": [
    "top_shelf = dataset[(dataset['shelf'] == 'Top')]\n",
    "middle_shelf = dataset[(dataset['shelf'] == 'Middle')]\n",
    "bottom_shelf = dataset[(dataset['shelf'] == 'Bottom')]\n",
    "fig, axs = plt.subplots(1, 3)\n",
    "\n",
    "axs[0].hist(top_shelf['sugars'])\n",
    "axs[0].set_title('Top Shelf Sugar')\n",
    "\n",
    "axs[1].hist(middle_shelf['sugars'])\n",
    "axs[1].set_title('Middle Shelf Sugar')\n",
    "\n",
    "axs[2].hist(bottom_shelf['sugars'])\n",
    "axs[2].set_title('Bottom Shelf Sugar')\n",
    "\n",
    "mean = {'top': top_shelf['sugars'].mean(), 'mid': middle_shelf['sugars'].mean(), 'bot': bottom_shelf['sugars'].mean()}\n",
    "\n",
    "plt.show()"
   ]
  },
  {
   "cell_type": "markdown",
   "metadata": {},
   "source": [
    "### Question 3\n",
    "Order of shelf with higest sugar content."
   ]
  },
  {
   "cell_type": "code",
   "execution_count": 34,
   "metadata": {},
   "outputs": [
    {
     "name": "stdout",
     "output_type": "stream",
     "text": [
      "mid (9.619047619047619)\n",
      "top (6.527777777777778)\n",
      "bot (5.105263157894737)\n"
     ]
    }
   ],
   "source": [
    "print_dict(dict(sorted(mean.items(), key=lambda item: item[1], reverse=True)))"
   ]
  },
  {
   "cell_type": "markdown",
   "metadata": {},
   "source": [
    "### Question 4\n",
    "Five-number summary plot for the variable 'fiber'"
   ]
  },
  {
   "cell_type": "code",
   "execution_count": 25,
   "metadata": {},
   "outputs": [
    {
     "data": {
      "text/plain": [
       "count    77.000000\n",
       "mean      2.151948\n",
       "std       2.383364\n",
       "min       0.000000\n",
       "25%       1.000000\n",
       "50%       2.000000\n",
       "75%       3.000000\n",
       "max      14.000000\n",
       "Name: fiber, dtype: float64"
      ]
     },
     "execution_count": 25,
     "metadata": {},
     "output_type": "execute_result"
    },
    {
     "data": {
      "image/png": "[encoded data removed]",
      "text/plain": [
       "<Figure size 432x288 with 1 Axes>"
      ]
     },
     "metadata": {
      "needs_background": "light"
     },
     "output_type": "display_data"
    }
   ],
   "source": [
    "plt.boxplot(dataset['fiber'])\n",
    "dataset['fiber'].describe()"
   ]
  },
  {
   "cell_type": "markdown",
   "metadata": {},
   "source": [
    "### Question 5\n",
    "Scatter plot between calories and carbohydrates"
   ]
  },
  {
   "cell_type": "code",
   "execution_count": 28,
   "metadata": {},
   "outputs": [
    {
     "data": {
      "text/plain": [
       "0.25763783073781144"
      ]
     },
     "execution_count": 28,
     "metadata": {},
     "output_type": "execute_result"
    },
    {
     "data": {
      "image/png": "[encoded data removed]",
      "text/plain": [
       "<Figure size 432x288 with 1 Axes>"
      ]
     },
     "metadata": {
      "needs_background": "light"
     },
     "output_type": "display_data"
    }
   ],
   "source": [
    "plt.scatter(dataset['carbo'], dataset['calories'])\n",
    "plt.title('Scatter Plot - Calories vs Carbohydrates')\n",
    "plt.ylabel('Calories')\n",
    "plt.xlabel('Carbohydrates')\n",
    "dataset['carbo'].corr(dataset['calories'])"
   ]
  },
  {
   "cell_type": "code",
   "execution_count": null,
   "metadata": {},
   "outputs": [],
   "source": []
  }
 ],
 "metadata": {
  "kernelspec": {
   "display_name": "Python 3",
   "language": "python",
   "name": "python3"
  },
  "language_info": {
   "codemirror_mode": {
    "name": "ipython",
    "version": 3
   },
   "file_extension": ".py",
   "mimetype": "text/x-python",
   "name": "python",
   "nbconvert_exporter": "python",
   "pygments_lexer": "ipython3",
   "version": "3.9.1"
  }
 },
 "nbformat": 4,
 "nbformat_minor": 4
}
